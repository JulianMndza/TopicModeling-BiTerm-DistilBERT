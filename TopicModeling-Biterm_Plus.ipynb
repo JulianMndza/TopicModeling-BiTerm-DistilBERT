{
 "cells": [
  {
   "cell_type": "code",
   "execution_count": 1,
   "id": "b89988a0",
   "metadata": {},
   "outputs": [
    {
     "name": "stderr",
     "output_type": "stream",
     "text": [
      "C:\\Users\\Kei\\anaconda3\\lib\\site-packages\\past\\builtins\\misc.py:45: DeprecationWarning: the imp module is deprecated in favour of importlib; see the module's documentation for alternative uses\n",
      "  from imp import reload\n"
     ]
    }
   ],
   "source": [
    "import bitermplus as btm\n",
    "import numpy as np\n",
    "import pandas as pd\n",
    "import pyLDAvis"
   ]
  },
  {
   "cell_type": "code",
   "execution_count": 2,
   "id": "a1e69621",
   "metadata": {},
   "outputs": [],
   "source": [
    "# Importing data\n",
    "df = pd.read_csv(\n",
    "    'preprocessed_comments.csv', header=None, names=['Comment'])\n",
    "texts = df['Comment'].str.strip().tolist()"
   ]
  },
  {
   "cell_type": "code",
   "execution_count": 3,
   "id": "cff815c8",
   "metadata": {},
   "outputs": [],
   "source": [
    "# Vectorizing documents, obtaining full vocabulary and biterms\n",
    "# Internally, btm.get_words_freqs uses CountVectorizer from sklearn\n",
    "# You can pass any of its arguments to btm.get_words_freqs\n",
    "# For example, you can remove stop words:\n",
    "\n",
    "X, vocabulary, vocab_dict = btm.get_words_freqs(texts)\n",
    "docs_vec = btm.get_vectorized_docs(texts, vocabulary)\n",
    "biterms = btm.get_biterms(docs_vec)"
   ]
  },
  {
   "cell_type": "code",
   "execution_count": 4,
   "id": "ca8f70d3",
   "metadata": {},
   "outputs": [
    {
     "name": "stderr",
     "output_type": "stream",
     "text": [
      "100%|██████████████████████████████████████████████████████████████████████████████| 5000/5000 [03:21<00:00, 24.85it/s]\n",
      "100%|███████████████████████████████████████████████████████████████████████████| 5188/5188 [00:00<00:00, 55864.76it/s]\n"
     ]
    }
   ],
   "source": [
    "# Initializing and running model\n",
    "# T - number of topics\n",
    "model = btm.BTM(\n",
    "    X, vocabulary, seed=20, T=10, M=20, alpha=50/8, beta=0.01)\n",
    "model.fit(biterms, iterations=5000)\n",
    "\n",
    "p_zd = model.transform(docs_vec)\n",
    "\n",
    "perplexity = btm.perplexity(model.matrix_topics_words_, p_zd, X, 8)\n",
    "coherence = btm.coherence(model.matrix_topics_words_, X, M=20)\n",
    "# or\n",
    "# btm.get_docs_top_topic(texts, model.matrix_docs_topics_)\n"
   ]
  },
  {
   "cell_type": "code",
   "execution_count": 5,
   "id": "c1351e9e",
   "metadata": {},
   "outputs": [
    {
     "name": "stdout",
     "output_type": "stream",
     "text": [
      "BiTerm Metric\n",
      "Perplexity score:\n",
      "2076.2977026264202\n",
      "Coherence score (10 topics):\n",
      "[-501.67966029 -607.76280215 -521.40584577 -399.71841352 -538.7449925\n",
      " -537.81835316 -539.72847712 -544.33711205 -476.35261764 -512.91568098]\n"
     ]
    }
   ],
   "source": [
    "print(\"BiTerm Metric\")\n",
    "print(\"Perplexity score:\\n\" + str(perplexity))\n",
    "print(\"Coherence score (10 topics):\\n\" + str(coherence))"
   ]
  },
  {
   "cell_type": "code",
   "execution_count": 6,
   "id": "6676fc11",
   "metadata": {},
   "outputs": [
    {
     "name": "stderr",
     "output_type": "stream",
     "text": [
      "C:\\Users\\Kei\\anaconda3\\lib\\site-packages\\gensim\\matutils.py:22: DeprecationWarning: Please use `triu` from the `scipy.linalg` namespace, the `scipy.linalg.special_matrices` namespace is deprecated.\n",
      "  from scipy.linalg.special_matrices import triu\n",
      "C:\\Users\\Kei\\anaconda3\\lib\\site-packages\\tmplot\\_helpers.py:38: UserWarning: Please install \"tomotopy\" package to analyze its models.\n",
      "Run `pip install tomotopy` in the console.\n",
      "  warn(\n",
      "C:\\Users\\Kei\\anaconda3\\lib\\site-packages\\tmplot\\_helpers.py:38: UserWarning: Please install \"tomotopy\" package to analyze its models.\n",
      "Run `pip install tomotopy` in the console.\n",
      "  warn(\n"
     ]
    },
    {
     "data": {
      "text/html": [
       "\n",
       "<div id=\"altair-viz-cd72de68767e4c349e15affb493b4fa6\"></div>\n",
       "<script type=\"text/javascript\">\n",
       "  var VEGA_DEBUG = (typeof VEGA_DEBUG == \"undefined\") ? {} : VEGA_DEBUG;\n",
       "  (function(spec, embedOpt){\n",
       "    let outputDiv = document.currentScript.previousElementSibling;\n",
       "    if (outputDiv.id !== \"altair-viz-cd72de68767e4c349e15affb493b4fa6\") {\n",
       "      outputDiv = document.getElementById(\"altair-viz-cd72de68767e4c349e15affb493b4fa6\");\n",
       "    }\n",
       "    const paths = {\n",
       "      \"vega\": \"https://cdn.jsdelivr.net/npm//vega@5?noext\",\n",
       "      \"vega-lib\": \"https://cdn.jsdelivr.net/npm//vega-lib?noext\",\n",
       "      \"vega-lite\": \"https://cdn.jsdelivr.net/npm//vega-lite@4.17.0?noext\",\n",
       "      \"vega-embed\": \"https://cdn.jsdelivr.net/npm//vega-embed@6?noext\",\n",
       "    };\n",
       "\n",
       "    function maybeLoadScript(lib, version) {\n",
       "      var key = `${lib.replace(\"-\", \"\")}_version`;\n",
       "      return (VEGA_DEBUG[key] == version) ?\n",
       "        Promise.resolve(paths[lib]) :\n",
       "        new Promise(function(resolve, reject) {\n",
       "          var s = document.createElement('script');\n",
       "          document.getElementsByTagName(\"head\")[0].appendChild(s);\n",
       "          s.async = true;\n",
       "          s.onload = () => {\n",
       "            VEGA_DEBUG[key] = version;\n",
       "            return resolve(paths[lib]);\n",
       "          };\n",
       "          s.onerror = () => reject(`Error loading script: ${paths[lib]}`);\n",
       "          s.src = paths[lib];\n",
       "        });\n",
       "    }\n",
       "\n",
       "    function showError(err) {\n",
       "      outputDiv.innerHTML = `<div class=\"error\" style=\"color:red;\">${err}</div>`;\n",
       "      throw err;\n",
       "    }\n",
       "\n",
       "    function displayChart(vegaEmbed) {\n",
       "      vegaEmbed(outputDiv, spec, embedOpt)\n",
       "        .catch(err => showError(`Javascript Error: ${err.message}<br>This usually means there's a typo in your chart specification. See the javascript console for the full traceback.`));\n",
       "    }\n",
       "\n",
       "    if(typeof define === \"function\" && define.amd) {\n",
       "      requirejs.config({paths});\n",
       "      require([\"vega-embed\"], displayChart, err => showError(`Error loading script: ${err.message}`));\n",
       "    } else {\n",
       "      maybeLoadScript(\"vega\", \"5\")\n",
       "        .then(() => maybeLoadScript(\"vega-lite\", \"4.17.0\"))\n",
       "        .then(() => maybeLoadScript(\"vega-embed\", \"6\"))\n",
       "        .catch(showError)\n",
       "        .then(() => displayChart(vegaEmbed));\n",
       "    }\n",
       "  })({\"config\": {\"view\": {\"continuousWidth\": 400, \"continuousHeight\": 300, \"stroke\": \"transparent\", \"strokeWidth\": 0}, \"axis\": {\"disable\": true}, \"legend\": {\"labelFontSize\": 13, \"orient\": \"bottom\", \"titleFontSize\": 13}}, \"layer\": [{\"mark\": \"rule\", \"encoding\": {\"color\": {\"value\": \"gray\"}, \"size\": {\"value\": 0.2}, \"y\": {\"aggregate\": \"average\", \"field\": \"y\", \"type\": \"quantitative\"}}}, {\"mark\": \"rule\", \"encoding\": {\"color\": {\"value\": \"gray\"}, \"size\": {\"value\": 0.2}, \"x\": {\"aggregate\": \"average\", \"field\": \"x\", \"type\": \"quantitative\"}}}, {\"mark\": {\"type\": \"circle\", \"opacity\": 0.33, \"stroke\": \"black\", \"strokeWidth\": 1}, \"encoding\": {\"size\": {\"field\": \"size\", \"scale\": {\"range\": [0, 3000]}, \"title\": \"Marginal topic distribution\", \"type\": \"quantitative\"}, \"tooltip\": [{\"field\": \"label\", \"type\": \"quantitative\"}, {\"field\": \"size\", \"type\": \"quantitative\"}], \"x\": {\"axis\": null, \"field\": \"x\", \"type\": \"quantitative\"}, \"y\": {\"axis\": null, \"field\": \"y\", \"type\": \"quantitative\"}}}, {\"mark\": {\"type\": \"text\", \"align\": \"center\", \"baseline\": \"middle\"}, \"encoding\": {\"size\": {\"value\": 13}, \"text\": {\"field\": \"topic\", \"type\": \"quantitative\"}, \"tooltip\": [{\"field\": \"label\", \"type\": \"quantitative\"}, {\"field\": \"size\", \"type\": \"quantitative\"}], \"x\": {\"axis\": null, \"field\": \"x\", \"type\": \"quantitative\"}, \"y\": {\"axis\": null, \"field\": \"y\", \"type\": \"quantitative\"}}}], \"data\": {\"name\": \"data-745cb319704f2347ec5d1735d95aa918\"}, \"$schema\": \"https://vega.github.io/schema/vega-lite/v4.17.0.json\", \"datasets\": {\"data-745cb319704f2347ec5d1735d95aa918\": [{\"x\": -17.83182144165039, \"y\": -23.19312858581543, \"topic\": 0, \"size\": 12.419402952788591, \"label\": 0}, {\"x\": -139.4267578125, \"y\": 67.9969711303711, \"topic\": 1, \"size\": 7.832060195114804, \"label\": 1}, {\"x\": 57.55973815917969, \"y\": 4.411855697631836, \"topic\": 2, \"size\": 10.771870639608817, \"label\": 2}, {\"x\": 127.14195251464844, \"y\": 34.98606872558594, \"topic\": 3, \"size\": 4.511135930649785, \"label\": 3}, {\"x\": 14.653838157653809, \"y\": 67.24510192871094, \"topic\": 4, \"size\": 6.393769156113715, \"label\": 4}, {\"x\": -99.4096450805664, \"y\": -17.412893295288086, \"topic\": 5, \"size\": 15.622559215475764, \"label\": 5}, {\"x\": -57.27378845214844, \"y\": 74.48899841308594, \"topic\": 6, \"size\": 5.928934511763517, \"label\": 6}, {\"x\": -41.2080078125, \"y\": -70.95455932617188, \"topic\": 7, \"size\": 17.71753965092237, \"label\": 7}, {\"x\": 21.62961196899414, \"y\": -92.10319519042969, \"topic\": 8, \"size\": 7.65164073711101, \"label\": 8}, {\"x\": 62.099143981933594, \"y\": -51.579566955566406, \"topic\": 9, \"size\": 11.151087010451644, \"label\": 9}]}}, {\"mode\": \"vega-lite\"});\n",
       "</script>"
      ],
      "text/plain": [
       "alt.LayerChart(...)"
      ]
     },
     "execution_count": 6,
     "metadata": {},
     "output_type": "execute_result"
    }
   ],
   "source": [
    "import tmplot as tmp\n",
    "\n",
    "# Plotting topics as a scatter plot\n",
    "topics_coords = tmp.prepare_coords(model)\n",
    "tmp.plot_scatter_topics(topics_coords, size_col='size', label_col='label')"
   ]
  },
  {
   "cell_type": "code",
   "execution_count": 7,
   "id": "6b32e000",
   "metadata": {},
   "outputs": [
    {
     "name": "stderr",
     "output_type": "stream",
     "text": [
      "C:\\Users\\Kei\\anaconda3\\lib\\site-packages\\tmplot\\_helpers.py:38: UserWarning: Please install \"tomotopy\" package to analyze its models.\n",
      "Run `pip install tomotopy` in the console.\n",
      "  warn(\n",
      "C:\\Users\\Kei\\anaconda3\\lib\\site-packages\\tmplot\\_helpers.py:38: UserWarning: Please install \"tomotopy\" package to analyze its models.\n",
      "Run `pip install tomotopy` in the console.\n",
      "  warn(\n",
      "C:\\Users\\Kei\\anaconda3\\lib\\site-packages\\tmplot\\_helpers.py:38: UserWarning: Please install \"tomotopy\" package to analyze its models.\n",
      "Run `pip install tomotopy` in the console.\n",
      "  warn(\n",
      "C:\\Users\\Kei\\anaconda3\\lib\\site-packages\\tmplot\\_helpers.py:38: UserWarning: Please install \"tomotopy\" package to analyze its models.\n",
      "Run `pip install tomotopy` in the console.\n",
      "  warn(\n"
     ]
    },
    {
     "data": {
      "application/vnd.jupyter.widget-view+json": {
       "model_id": "40c3c6c0186041d1995a18925cf30997",
       "version_major": 2,
       "version_minor": 0
      },
      "text/plain": [
       "VBox(children=(VBox(children=(HBox(children=(HTML(value='<b>Select a topic</b>:'), Dropdown(options=((0, 0), (…"
      ]
     },
     "metadata": {},
     "output_type": "display_data"
    }
   ],
   "source": [
    "# Run the interactive report interface\n",
    "tmp.report(model=model, docs=texts, width=200)"
   ]
  }
 ],
 "metadata": {
  "kernelspec": {
   "display_name": "Python 3 (ipykernel)",
   "language": "python",
   "name": "python3"
  },
  "language_info": {
   "codemirror_mode": {
    "name": "ipython",
    "version": 3
   },
   "file_extension": ".py",
   "mimetype": "text/x-python",
   "name": "python",
   "nbconvert_exporter": "python",
   "pygments_lexer": "ipython3",
   "version": "3.8.15"
  }
 },
 "nbformat": 4,
 "nbformat_minor": 5
}
